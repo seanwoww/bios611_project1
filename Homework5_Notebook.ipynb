{
 "cells": [
  {
   "cell_type": "code",
   "execution_count": 47,
   "metadata": {},
   "outputs": [
    {
     "name": "stdout",
     "output_type": "stream",
     "text": [
      "                Name Alignment  Intelligence  Strength  Speed  Durability  \\\n",
      "0            3-D Man      good            50        31     43          32   \n",
      "1             A-Bomb      good            38       100     17          80   \n",
      "2         Abe Sapien      good            88        14     35          42   \n",
      "3           Abin Sur      good            50        90     53          64   \n",
      "4        Abomination       bad            63        80     53          90   \n",
      "..               ...       ...           ...       ...    ...         ...   \n",
      "606     Yellowjacket      good            88        10     12          28   \n",
      "607  Yellowjacket II      good            50        10     35          28   \n",
      "608             Ymir      good            50       100     27         100   \n",
      "609          Zatanna      good            75        10     23          28   \n",
      "610             Zoom       bad            50        10    100          28   \n",
      "\n",
      "     Power  Combat  Total  \n",
      "0       25      52    233  \n",
      "1       17      64    316  \n",
      "2       35      85    299  \n",
      "3       84      65    406  \n",
      "4       55      95    436  \n",
      "..     ...     ...    ...  \n",
      "606     12      14    164  \n",
      "607     31      28    182  \n",
      "608     83      28    388  \n",
      "609    100      56    292  \n",
      "610     72      28    288  \n",
      "\n",
      "[611 rows x 9 columns]\n",
      "     Intelligence  Strength  Speed  Durability\n",
      "0              50        31     43          32\n",
      "1              38       100     17          80\n",
      "2              88        14     35          42\n",
      "3              50        90     53          64\n",
      "4              63        80     53          90\n",
      "..            ...       ...    ...         ...\n",
      "606            88        10     12          28\n",
      "607            50        10     35          28\n",
      "608            50       100     27         100\n",
      "609            75        10     23          28\n",
      "610            50        10    100          28\n",
      "\n",
      "[611 rows x 4 columns]\n",
      "[[ 3.4254518  2.1752615]\n",
      " [21.789608  -7.0847163]\n",
      " [ 6.254628  12.550934 ]\n",
      " ...\n",
      " [22.160044  -8.96715  ]\n",
      " [ 3.0433326 12.181881 ]\n",
      " [16.14912    8.600652 ]]\n"
     ]
    },
    {
     "ename": "ValueError",
     "evalue": "The truth value of an array with more than one element is ambiguous. Use a.any() or a.all()",
     "output_type": "error",
     "traceback": [
      "\u001b[0;31m---------------------------------------------------------------------------\u001b[0m",
      "\u001b[0;31mValueError\u001b[0m                                Traceback (most recent call last)",
      "\u001b[0;32m<ipython-input-47-ac1e436614d1>\u001b[0m in \u001b[0;36m<module>\u001b[0;34m\u001b[0m\n\u001b[1;32m     17\u001b[0m \u001b[0;32mfrom\u001b[0m \u001b[0mplotnine\u001b[0m \u001b[0;32mimport\u001b[0m \u001b[0mggplot\u001b[0m\u001b[0;34m,\u001b[0m \u001b[0mgeom_point\u001b[0m\u001b[0;34m,\u001b[0m \u001b[0maes\u001b[0m\u001b[0;34m,\u001b[0m \u001b[0mstat_smooth\u001b[0m\u001b[0;34m,\u001b[0m \u001b[0mfacet_wrap\u001b[0m\u001b[0;34m\u001b[0m\u001b[0;34m\u001b[0m\u001b[0m\n\u001b[1;32m     18\u001b[0m \u001b[0mprint\u001b[0m\u001b[0;34m(\u001b[0m\u001b[0mTS\u001b[0m\u001b[0;34m)\u001b[0m\u001b[0;34m\u001b[0m\u001b[0;34m\u001b[0m\u001b[0m\n\u001b[0;32m---> 19\u001b[0;31m \u001b[0mTSN\u001b[0m \u001b[0;34m=\u001b[0m \u001b[0;34m(\u001b[0m\u001b[0mggplot\u001b[0m\u001b[0;34m(\u001b[0m\u001b[0mTS\u001b[0m\u001b[0;34m,\u001b[0m \u001b[0maes\u001b[0m\u001b[0;34m(\u001b[0m\u001b[0;36m5.757715225219726562e+00\u001b[0m\u001b[0;34m,\u001b[0m \u001b[0;36m2.087955713272094727e+00\u001b[0m\u001b[0;34m)\u001b[0m\u001b[0;34m)\u001b[0m \u001b[0;34m+\u001b[0m \u001b[0mgeom_point\u001b[0m\u001b[0;34m(\u001b[0m\u001b[0mcolor\u001b[0m \u001b[0;34m=\u001b[0m \u001b[0;36m5.757715225219726562e+00\u001b[0m\u001b[0;34m)\u001b[0m\u001b[0;34m)\u001b[0m\u001b[0;34m.\u001b[0m\u001b[0msave\u001b[0m\u001b[0;34m(\u001b[0m\u001b[0mfilename\u001b[0m \u001b[0;34m=\u001b[0m \u001b[0;34m\"Project1/tsne_p9.png\"\u001b[0m\u001b[0;34m)\u001b[0m\u001b[0;34m\u001b[0m\u001b[0;34m\u001b[0m\u001b[0m\n\u001b[0m",
      "\u001b[0;32m/opt/conda/lib/python3.8/site-packages/plotnine/ggplot.py\u001b[0m in \u001b[0;36m__init__\u001b[0;34m(self, mapping, data, environment)\u001b[0m\n\u001b[1;32m     54\u001b[0m     \u001b[0;32mdef\u001b[0m \u001b[0m__init__\u001b[0m\u001b[0;34m(\u001b[0m\u001b[0mself\u001b[0m\u001b[0;34m,\u001b[0m \u001b[0mmapping\u001b[0m\u001b[0;34m=\u001b[0m\u001b[0;32mNone\u001b[0m\u001b[0;34m,\u001b[0m \u001b[0mdata\u001b[0m\u001b[0;34m=\u001b[0m\u001b[0;32mNone\u001b[0m\u001b[0;34m,\u001b[0m \u001b[0menvironment\u001b[0m\u001b[0;34m=\u001b[0m\u001b[0;32mNone\u001b[0m\u001b[0;34m)\u001b[0m\u001b[0;34m:\u001b[0m\u001b[0;34m\u001b[0m\u001b[0;34m\u001b[0m\u001b[0m\n\u001b[1;32m     55\u001b[0m         \u001b[0;31m# Allow some sloppiness\u001b[0m\u001b[0;34m\u001b[0m\u001b[0;34m\u001b[0m\u001b[0;34m\u001b[0m\u001b[0m\n\u001b[0;32m---> 56\u001b[0;31m         \u001b[0mmapping\u001b[0m\u001b[0;34m,\u001b[0m \u001b[0mdata\u001b[0m \u001b[0;34m=\u001b[0m \u001b[0morder_as_mapping_data\u001b[0m\u001b[0;34m(\u001b[0m\u001b[0mmapping\u001b[0m\u001b[0;34m,\u001b[0m \u001b[0mdata\u001b[0m\u001b[0;34m)\u001b[0m\u001b[0;34m\u001b[0m\u001b[0;34m\u001b[0m\u001b[0m\n\u001b[0m\u001b[1;32m     57\u001b[0m         \u001b[0;32mif\u001b[0m \u001b[0mmapping\u001b[0m \u001b[0;32mis\u001b[0m \u001b[0;32mNone\u001b[0m\u001b[0;34m:\u001b[0m\u001b[0;34m\u001b[0m\u001b[0;34m\u001b[0m\u001b[0m\n\u001b[1;32m     58\u001b[0m             \u001b[0mmapping\u001b[0m \u001b[0;34m=\u001b[0m \u001b[0maes\u001b[0m\u001b[0;34m(\u001b[0m\u001b[0;34m)\u001b[0m\u001b[0;34m\u001b[0m\u001b[0;34m\u001b[0m\u001b[0m\n",
      "\u001b[0;32m/opt/conda/lib/python3.8/site-packages/plotnine/utils.py\u001b[0m in \u001b[0;36morder_as_mapping_data\u001b[0;34m(*args)\u001b[0m\n\u001b[1;32m   1007\u001b[0m             \u001b[0mmapping\u001b[0m\u001b[0;34m,\u001b[0m \u001b[0mdata\u001b[0m \u001b[0;34m=\u001b[0m \u001b[0mdata\u001b[0m\u001b[0;34m,\u001b[0m \u001b[0mmapping\u001b[0m\u001b[0;34m\u001b[0m\u001b[0;34m\u001b[0m\u001b[0m\n\u001b[1;32m   1008\u001b[0m \u001b[0;34m\u001b[0m\u001b[0m\n\u001b[0;32m-> 1009\u001b[0;31m     \u001b[0;32mif\u001b[0m \u001b[0mmapping\u001b[0m \u001b[0;32mand\u001b[0m \u001b[0;32mnot\u001b[0m \u001b[0misinstance\u001b[0m\u001b[0;34m(\u001b[0m\u001b[0mmapping\u001b[0m\u001b[0;34m,\u001b[0m \u001b[0maes\u001b[0m\u001b[0;34m)\u001b[0m\u001b[0;34m:\u001b[0m\u001b[0;34m\u001b[0m\u001b[0;34m\u001b[0m\u001b[0m\n\u001b[0m\u001b[1;32m   1010\u001b[0m         raise TypeError(\n\u001b[1;32m   1011\u001b[0m             \u001b[0;34m\"Unknown argument type {!r}, expected mapping/aes.\"\u001b[0m\u001b[0;34m\u001b[0m\u001b[0;34m\u001b[0m\u001b[0m\n",
      "\u001b[0;31mValueError\u001b[0m: The truth value of an array with more than one element is ambiguous. Use a.any() or a.all()"
     ]
    }
   ],
   "source": [
    "import pandas as pd;\n",
    "data = pd.read_csv('datasets_38396_60978_charcters_stats.csv')\n",
    "jdata = pd.read_csv('datasets_38396_60978_charcters_stats.csv', usecols = ['Intelligence', 'Strength', 'Speed', 'Durability'])\n",
    "print(data)\n",
    "print(jdata)\n",
    "\n",
    "\n",
    "import numpy as np\n",
    "import sklearn as sk\n",
    "from sklearn.manifold import TSNE\n",
    "\n",
    "TS = sk.manifold.TSNE(n_components=2).fit_transform(jdata)\n",
    "np.savetxt(\"TSNE.csv\", TS , delimiter=\",\")\n",
    "\n",
    "import matplotlib.pyplot as plt\n",
    "import plotnine as p9\n",
    "from plotnine import ggplot, geom_point, aes, stat_smooth, facet_wrap\n",
    "print(TS)\n",
    "TSN = (ggplot(TS, aes(5.757715225219726562e+00, 2.087955713272094727e+00)) + geom_point(color = 5.757715225219726562e+00)).save(filename = \"Project1/tsne_p9.png\")"
   ]
  },
  {
   "cell_type": "code",
   "execution_count": 2,
   "metadata": {},
   "outputs": [
    {
     "ename": "ModuleNotFoundError",
     "evalue": "No module named 'caret'",
     "output_type": "error",
     "traceback": [
      "\u001b[0;31m---------------------------------------------------------------------------\u001b[0m",
      "\u001b[0;31mModuleNotFoundError\u001b[0m                       Traceback (most recent call last)",
      "\u001b[0;32m<ipython-input-2-b4e092196a5c>\u001b[0m in \u001b[0;36m<module>\u001b[0;34m\u001b[0m\n\u001b[0;32m----> 1\u001b[0;31m \u001b[0;32mimport\u001b[0m \u001b[0mcaret\u001b[0m \u001b[0;32mas\u001b[0m \u001b[0mct\u001b[0m\u001b[0;34m\u001b[0m\u001b[0;34m\u001b[0m\u001b[0m\n\u001b[0m",
      "\u001b[0;31mModuleNotFoundError\u001b[0m: No module named 'caret'"
     ]
    }
   ],
   "source": [
    "import caret as ct\n"
   ]
  },
  {
   "cell_type": "code",
   "execution_count": null,
   "metadata": {},
   "outputs": [],
   "source": []
  }
 ],
 "metadata": {
  "kernelspec": {
   "display_name": "Python 3",
   "language": "python",
   "name": "python3"
  },
  "language_info": {
   "codemirror_mode": {
    "name": "ipython",
    "version": 3
   },
   "file_extension": ".py",
   "mimetype": "text/x-python",
   "name": "python",
   "nbconvert_exporter": "python",
   "pygments_lexer": "ipython3",
   "version": "3.8.6"
  }
 },
 "nbformat": 4,
 "nbformat_minor": 4
}
